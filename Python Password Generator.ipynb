{
 "cells": [
  {
   "cell_type": "markdown",
   "id": "267f80eb",
   "metadata": {},
   "source": [
    "# *Python Password Generator*"
   ]
  },
  {
   "cell_type": "code",
   "execution_count": 1,
   "id": "a30bb91a",
   "metadata": {},
   "outputs": [
    {
     "name": "stdout",
     "output_type": "stream",
     "text": [
      "Generated Password: [jzm/F6)[:zt\n",
      "Generated Password (16 characters): +.q@K[ST@U+XJ5{D\n"
     ]
    }
   ],
   "source": [
    "import random\n",
    "import string\n",
    "\n",
    "def generate_password(length=12):\n",
    "    characters = string.ascii_letters + string.digits + string.punctuation\n",
    "    password = ''.join(random.choice(characters) for _ in range(length))\n",
    "    return password\n",
    "\n",
    "# Generate a password of default length (12 characters)\n",
    "password = generate_password()\n",
    "print(\"Generated Password:\", password)\n",
    "\n",
    "# You can also specify a custom length for the password\n",
    "custom_length_password = generate_password(16)\n",
    "print(\"Generated Password (16 characters):\", custom_length_password)\n"
   ]
  },
  {
   "cell_type": "code",
   "execution_count": null,
   "id": "96400a8d",
   "metadata": {},
   "outputs": [],
   "source": []
  }
 ],
 "metadata": {
  "kernelspec": {
   "display_name": "Python 3 (ipykernel)",
   "language": "python",
   "name": "python3"
  },
  "language_info": {
   "codemirror_mode": {
    "name": "ipython",
    "version": 3
   },
   "file_extension": ".py",
   "mimetype": "text/x-python",
   "name": "python",
   "nbconvert_exporter": "python",
   "pygments_lexer": "ipython3",
   "version": "3.11.4"
  }
 },
 "nbformat": 4,
 "nbformat_minor": 5
}
